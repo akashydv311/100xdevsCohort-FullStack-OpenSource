{
  "nbformat": 4,
  "nbformat_minor": 0,
  "metadata": {
    "colab": {
      "provenance": [],
      "authorship_tag": "ABX9TyP/1fMmW+MI0/sAcNUkQcV1",
      "include_colab_link": true
    },
    "kernelspec": {
      "name": "python3",
      "display_name": "Python 3"
    },
    "language_info": {
      "name": "python"
    }
  },
  "cells": [
    {
      "cell_type": "markdown",
      "metadata": {
        "id": "view-in-github",
        "colab_type": "text"
      },
      "source": [
        "<a href=\"https://colab.research.google.com/github/akashydv311/100xdevsCohort-FullStack-OpenSource/blob/main/Assignment01.ipynb\" target=\"_parent\"><img src=\"https://colab.research.google.com/assets/colab-badge.svg\" alt=\"Open In Colab\"/></a>"
      ]
    },
    {
      "cell_type": "code",
      "execution_count": null,
      "metadata": {
        "id": "0aVCGzEwLTd_"
      },
      "outputs": [],
      "source": []
    },
    {
      "cell_type": "markdown",
      "source": [
        "# Part 1: Variables and Memory Allocation"
      ],
      "metadata": {
        "id": "LxP_ys0ALW6x"
      }
    },
    {
      "cell_type": "markdown",
      "source": [
        "### Exercise 1.1: Memory Exploration"
      ],
      "metadata": {
        "id": "xGZdxpvpLa9u"
      }
    },
    {
      "cell_type": "markdown",
      "source": [
        "Write a program that demonstrates how variables and memory allocation work in Python. Your\n",
        "program should:\n",
        "1. Create variables of different types (int, float, string, list, tuple).\n",
        "2. Print the ID (memory address) of each variable using the id() function.\n",
        "3. Create a second variable that references the same object as one of your first variables.\n",
        "4. Modify the original variable and observe what happens to the second one (for both\n",
        "mutable and immutable types).\n",
        "5. Include comments explaining the behavior you observe. **bold text**"
      ],
      "metadata": {
        "id": "1k5tQV2kLjpH"
      }
    },
    {
      "cell_type": "code",
      "source": [
        "# 1. Create variables of different types (int, float, string, list, tuple)\n",
        "a = 10\n",
        "b = 12.78\n",
        "c = \"akash yadav\"\n",
        "d = ['python3', 'java8', 'js', 'c#']\n",
        "e = ('enuron', 'coursera', 'freecodecamp')\n",
        "print(\"Type of the variables:\", type(a), type(b), type(c), type(d), type(e));"
      ],
      "metadata": {
        "colab": {
          "base_uri": "https://localhost:8080/"
        },
        "id": "y5pHXYrcLp4K",
        "outputId": "eab069de-9371-40c1-a754-f344f4a87d74"
      },
      "execution_count": 2,
      "outputs": [
        {
          "output_type": "stream",
          "name": "stdout",
          "text": [
            "Type of the variables: <class 'int'> <class 'float'> <class 'str'> <class 'list'> <class 'tuple'>\n"
          ]
        }
      ]
    },
    {
      "cell_type": "code",
      "source": [
        "# 2. Print the ID (memory address) of each variable using the id() function.\n",
        "print(\"ID of the variables:\", id(a), id(b), id(c), id(d), id(e));"
      ],
      "metadata": {
        "colab": {
          "base_uri": "https://localhost:8080/"
        },
        "id": "umEdOGjmLxjG",
        "outputId": "1c3e9b75-ddcc-4f16-e8b6-60387c968679"
      },
      "execution_count": 3,
      "outputs": [
        {
          "output_type": "stream",
          "name": "stdout",
          "text": [
            "ID of the variables: 10758024 140237462529424 140236585605232 140237463012736 140236585606080\n"
          ]
        }
      ]
    },
    {
      "cell_type": "code",
      "source": [
        "# 3. Create a second variable that references the same object as one of your first variables.\n",
        "x = a\n",
        "y = b\n",
        "z = c\n",
        "m = d\n",
        "n = e\n",
        "print(\"Id of a & x:\", id(a), id(x))\n",
        "print(\"Id of b & y:\", id(b), id(y))\n",
        "print(\"Id of c & z:\", id(c), id(z))\n",
        "print(\"Id of d & m:\", id(d), id(m))\n",
        "print(\"Id of e & n:\", id(e), id(n))"
      ],
      "metadata": {
        "colab": {
          "base_uri": "https://localhost:8080/"
        },
        "id": "eJGKQIAFMmlR",
        "outputId": "1f07f576-a09e-46e8-94e1-d94f5438dde2"
      },
      "execution_count": 4,
      "outputs": [
        {
          "output_type": "stream",
          "name": "stdout",
          "text": [
            "Id of a & x: 10758024 10758024\n",
            "Id of b & y: 140237462529424 140237462529424\n",
            "Id of c & z: 140236585605232 140236585605232\n",
            "Id of d & m: 140237463012736 140237463012736\n",
            "Id of e & n: 140236585606080 140236585606080\n"
          ]
        }
      ]
    },
    {
      "cell_type": "code",
      "source": [
        "# 4. Modify the original variable and observe what happens to the second one (for both\n",
        "# mutable and immutable types).\n",
        "\n",
        "a = a + 1\n",
        "b = b + 10.67\n",
        "c = c + \" learning py3\"\n",
        "d = d + ['SQL']\n",
        "e = e + ('aws', 'gcp')\n",
        "print(\"Id of a & x:\", id(a), id(x))\n",
        "print(\"Id of b & y:\", id(b), id(y))\n",
        "print(\"Id of c & z:\", id(c), id(z))\n",
        "print(\"Id of d & m:\", id(d), id(m))\n",
        "print(\"Id of e & n:\", id(e), id(n))"
      ],
      "metadata": {
        "colab": {
          "base_uri": "https://localhost:8080/"
        },
        "id": "n24E_yPdNa9G",
        "outputId": "59b95c02-6683-4fd6-d5a7-22b72a26f811"
      },
      "execution_count": 5,
      "outputs": [
        {
          "output_type": "stream",
          "name": "stdout",
          "text": [
            "Id of a & x: 10758056 10758024\n",
            "Id of b & y: 140237462532464 140237462529424\n",
            "Id of c & z: 140236583609056 140236585605232\n",
            "Id of d & m: 140237462945152 140237463012736\n",
            "Id of e & n: 140237462905904 140236585606080\n"
          ]
        }
      ]
    },
    {
      "cell_type": "code",
      "source": [
        "# 5. Include comments explaining the behavior you observe.\n",
        "ans = 'All the address has been changed after additing'\n",
        "print(ans)"
      ],
      "metadata": {
        "colab": {
          "base_uri": "https://localhost:8080/"
        },
        "id": "VcG4BGNgOHiW",
        "outputId": "e539a8f3-a614-4ab1-fbb7-e9ae67828950"
      },
      "execution_count": 13,
      "outputs": [
        {
          "output_type": "stream",
          "name": "stdout",
          "text": [
            "All the address has been changed after additing\n"
          ]
        }
      ]
    },
    {
      "cell_type": "code",
      "source": [],
      "metadata": {
        "id": "rq4cmAoASO88"
      },
      "execution_count": 13,
      "outputs": []
    },
    {
      "cell_type": "markdown",
      "source": [
        "## Exercise 1.2: Variable Scope Investigation"
      ],
      "metadata": {
        "id": "P66MiOP1SRQl"
      }
    },
    {
      "cell_type": "markdown",
      "source": [
        "Create a function that demonstrates variable scope in Python:\n",
        "1. Define global variables outside the function.\n",
        "2. Define local variables inside the function with the same names.\n",
        "3. Try to modify a global variable both with and without the global keyword.\n",
        "4. Print the IDs of all variables before and after modifications.\n",
        "5. Explain what happens and why in your comments. **bold text**"
      ],
      "metadata": {
        "id": "YwDHGJVCSU1P"
      }
    },
    {
      "cell_type": "code",
      "source": [
        "# Define global variables outside the function.\n",
        "globle_var = 'outer'\n",
        "\n",
        "def my_demo_fun():\n",
        "  globle_var = 'inner'\n",
        "  print(\"In function:\", id(globle_var))\n",
        "  return None\n",
        "\n",
        "# main\n",
        "if __name__ == '__main__':\n",
        "  print(\"Before function call:\", id(globle_var))\n",
        "  my_demo_fun()\n",
        "  print(\"After function call:\", id(globle_var))\n"
      ],
      "metadata": {
        "colab": {
          "base_uri": "https://localhost:8080/"
        },
        "id": "m6uWJlh5SWkY",
        "outputId": "462e39f6-d90b-4e84-892c-eab62858dd46"
      },
      "execution_count": 22,
      "outputs": [
        {
          "output_type": "stream",
          "name": "stdout",
          "text": [
            "Before function call: 140237746079280\n",
            "In function: 140237764222576\n",
            "After function call: 140237746079280\n"
          ]
        }
      ]
    },
    {
      "cell_type": "code",
      "source": [
        "# 2. Define local variables inside the function with the same names.\n",
        "x = 10\n",
        "print(x)\n",
        "\n",
        "def test(y):\n",
        "  x = y\n",
        "  return None\n",
        "\n",
        "if __name__ == '__main__':\n",
        "  print(\"Before function call:\", id(x))\n",
        "  test(x)\n",
        "  print(\"After function call:\", id(x))\n",
        "\n"
      ],
      "metadata": {
        "colab": {
          "base_uri": "https://localhost:8080/"
        },
        "id": "4RhS2uQmTQHH",
        "outputId": "81e89b22-634c-413f-e516-816d7616a2a2"
      },
      "execution_count": 23,
      "outputs": [
        {
          "output_type": "stream",
          "name": "stdout",
          "text": [
            "10\n",
            "Before function call: 10758024\n",
            "After function call: 10758024\n"
          ]
        }
      ]
    },
    {
      "cell_type": "code",
      "source": [
        "# 3. Try to modify a global variable both with and without the global keyword.\n",
        "\n",
        "# without global keyword\n",
        "z = 10\n",
        "\n",
        "def update():\n",
        "  # z = z + 1 # this is giving an error\n",
        "  return None\n",
        "\n",
        "if __name__ == '__main__':\n",
        "  print(\"Before function call:\", id(z))\n",
        "  update()\n",
        "  print(\"After function call:\", id(z))\n",
        "\n",
        "\n",
        "# with globle keyword\n",
        "\n",
        "x = 10\n",
        "\n",
        "def new_update():\n",
        "  global x\n",
        "  x = x + 1\n",
        "  return None\n",
        "\n",
        "if __name__ == '__main__':\n",
        "  print(\"Before function call:\", id(x))\n",
        "  new_update()\n",
        "  print(\"After function call:\", id(x))\n"
      ],
      "metadata": {
        "colab": {
          "base_uri": "https://localhost:8080/"
        },
        "id": "1-vE9138U4bt",
        "outputId": "0cbdf2a0-8409-405d-d067-27f0f5393b2e"
      },
      "execution_count": 27,
      "outputs": [
        {
          "output_type": "stream",
          "name": "stdout",
          "text": [
            "Before function call: 10758024\n",
            "After function call: 10758024\n",
            "Before function call: 10758024\n",
            "After function call: 10758056\n"
          ]
        }
      ]
    },
    {
      "cell_type": "code",
      "source": [
        "# 4. Print the IDs of all variables before and after modifications.\n",
        "q = 90\n",
        "\n",
        "def update_q():\n",
        "  global q\n",
        "  q = q + 1\n",
        "  return None\n",
        "\n",
        "if __name__ == '__main__':\n",
        "  print(\"Before function call:\", id(q))\n",
        "  update_q()\n",
        "  print(\"After function call:\", id(q))"
      ],
      "metadata": {
        "colab": {
          "base_uri": "https://localhost:8080/"
        },
        "id": "86sUuMwOVz8S",
        "outputId": "821a03c7-e82c-4d67-bfbb-14cac2e95ee3"
      },
      "execution_count": 28,
      "outputs": [
        {
          "output_type": "stream",
          "name": "stdout",
          "text": [
            "Before function call: 10760584\n",
            "After function call: 10760616\n"
          ]
        }
      ]
    },
    {
      "cell_type": "code",
      "source": [
        "# 5. Explain what happens and why in your comments.\n",
        "ans = 'Python is thinking - \\ninside the function if you are not telling use the old variabe with the global keybword then python will think yo are operating on new variale'\n",
        "print(ans)"
      ],
      "metadata": {
        "colab": {
          "base_uri": "https://localhost:8080/"
        },
        "id": "TOg2XWQFW1mV",
        "outputId": "4d6d4fe0-8b72-492d-f6e6-fc844f1c9114"
      },
      "execution_count": 30,
      "outputs": [
        {
          "output_type": "stream",
          "name": "stdout",
          "text": [
            "Python is thinking - \n",
            "inside the function if you are not telling use the old variabe with the global keybword then python will think yo are operating on new variale\n"
          ]
        }
      ]
    },
    {
      "cell_type": "code",
      "source": [],
      "metadata": {
        "id": "3VAycmrhXWhk"
      },
      "execution_count": 30,
      "outputs": []
    },
    {
      "cell_type": "code",
      "source": [],
      "metadata": {
        "id": "fAAXiWnyXjmP"
      },
      "execution_count": null,
      "outputs": []
    },
    {
      "cell_type": "markdown",
      "source": [
        "# Part 2: Data Types and Type Conversion"
      ],
      "metadata": {
        "id": "eeOsL_rDXkmi"
      }
    },
    {
      "cell_type": "code",
      "source": [],
      "metadata": {
        "id": "nzPykKcAXlqH"
      },
      "execution_count": null,
      "outputs": []
    }
  ]
}